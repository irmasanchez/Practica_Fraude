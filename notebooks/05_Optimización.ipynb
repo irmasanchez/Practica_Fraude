{
 "cells": [
  {
   "cell_type": "markdown",
   "id": "d0381f6e",
   "metadata": {},
   "source": [
    "# CUNEF MUCD 2022/2023\n",
    "## Machine Learning\n",
    "## Análisis de Fraude"
   ]
  },
  {
   "cell_type": "markdown",
   "id": "b82b4b60",
   "metadata": {},
   "source": [
    "# Autores:\n",
    "-Gozde Yazganoglu\n",
    "-Irma Sanchez"
   ]
  },
  {
   "cell_type": "code",
   "execution_count": 73,
   "id": "2ddb3beb",
   "metadata": {},
   "outputs": [],
   "source": [
    "import pandas as pd\n",
    "from sklearn.ensemble import RandomForestClassifier\n",
    "import pandas as pd\n",
    "import numpy as np\n",
    "import matplotlib.pyplot as plt\n",
    "import seaborn as sns\n",
    "from sklearn.model_selection import GridSearchCV\n",
    "import sklearn\n",
    "\n",
    "from sklearn.model_selection import train_test_split\n",
    "from sklearn.model_selection import cross_validate, KFold\n",
    "\n",
    "from sklearn.metrics import classification_report, confusion_matrix, roc_curve, auc, \\\n",
    "                            silhouette_score, recall_score, precision_score, make_scorer, \\\n",
    "                            roc_auc_score, f1_score, precision_recall_curve\n",
    "\n",
    "from sklearn.metrics import accuracy_score, roc_auc_score, \\\n",
    "                            classification_report, confusion_matrix\n",
    "\n",
    "\n",
    "from sklearn import metrics\n",
    "from sklearn.metrics import plot_confusion_matrix\n",
    "\n",
    "from sklearn.pipeline import Pipeline\n",
    "from sklearn.metrics import accuracy_score, log_loss\n",
    "from sklearn.neighbors import KNeighborsClassifier\n",
    "from lightgbm import LGBMClassifier\n",
    "from sklearn.svm import SVC, LinearSVC, NuSVC\n",
    "from sklearn.tree import DecisionTreeClassifier\n",
    "from sklearn.ensemble import RandomForestClassifier, AdaBoostClassifier, GradientBoostingClassifier\n",
    "from sklearn.discriminant_analysis import LinearDiscriminantAnalysis\n",
    "from sklearn.metrics import ConfusionMatrixDisplay\n",
    "from sklearn.model_selection import GridSearchCV, RandomizedSearchCV\n",
    "import warnings\n",
    "from sklearn.preprocessing import StandardScaler\n",
    "from category_encoders import TargetEncoder\n",
    "from sklearn.preprocessing import OneHotEncoder\n",
    "from sklearn.impute import SimpleImputer, MissingIndicator\n",
    "from sklearn.compose import ColumnTransformer\n",
    "\n",
    "warnings.filterwarnings('ignore')\n",
    "\n",
    "from aux_func import evaluate_model\n",
    "from aux_func import model_analysis, cargar_modelo\n",
    "import lightgbm as lgb\n",
    "import pickle"
   ]
  },
  {
   "cell_type": "code",
   "execution_count": 74,
   "id": "bd098534",
   "metadata": {},
   "outputs": [],
   "source": [
    "import pickle\n",
    "import pandas as pd\n",
    "import numpy as np\n",
    "from sklearn.model_selection import GridSearchCV\n",
    "from aux_func import model_analysis, cargar_modelo"
   ]
  },
  {
   "cell_type": "code",
   "execution_count": 75,
   "id": "01f5e7f0",
   "metadata": {},
   "outputs": [],
   "source": [
    "preprocessor = cargar_modelo('../models/preprocessor.pickle')"
   ]
  },
  {
   "cell_type": "code",
   "execution_count": 76,
   "id": "c7184122",
   "metadata": {},
   "outputs": [],
   "source": [
    "xtrain = pd.read_parquet(\"../data/processed/xtrain.parquet\")\n",
    "ytrain = pd.read_parquet(\"../data/processed/ytrain.parquet\")\n",
    "xtest = pd.read_parquet(\"../data/processed/xtest.parquet\")\n",
    "ytest = pd.read_parquet(\"../data/processed/ytest.parquet\")"
   ]
  },
  {
   "cell_type": "markdown",
   "id": "42d58b86",
   "metadata": {},
   "source": [
    "## OPTIMIZACIÓN RANDOM FOREST"
   ]
  },
  {
   "cell_type": "code",
   "execution_count": 94,
   "id": "17ceea1f",
   "metadata": {},
   "outputs": [],
   "source": [
    "\n",
    "rf = Pipeline(steps=[\n",
    "    ('preprocesador', preprocessor),\n",
    "    ('clasificador', RandomForestClassifier())])\n",
    "\n",
    "### Parameter Tunning Optimization\n",
    "param_grid = { \n",
    "    'clasificador__n_estimators': [200, 250, 500],\n",
    "    'clasificador__max_features': ['sqrt', 'log2'],\n",
    "    'clasificador__max_depth' : [4, 6, 8, None],\n",
    "    'clasificador__criterion' :['gini'],\n",
    "    'clasificador__class_weight':['balanced']}\n",
    "\n",
    "\n",
    "CV = GridSearchCV(rf, param_grid, cv=3, n_jobs=8, scoring='roc_auc', verbose=1)"
   ]
  },
  {
   "cell_type": "code",
   "execution_count": 22,
   "id": "aa089768",
   "metadata": {},
   "outputs": [
    {
     "name": "stdout",
     "output_type": "stream",
     "text": [
      "ROC-AUC score of the model: 0.9950900106098783\n",
      "Accuracy of the model: 0.9862956870037909\n",
      "\n",
      "Classification report: \n",
      "              precision    recall  f1-score   support\n",
      "\n",
      "           0       1.00      0.99      0.99    209487\n",
      "           1       0.07      0.94      0.13       228\n",
      "\n",
      "    accuracy                           0.99    209715\n",
      "   macro avg       0.53      0.96      0.56    209715\n",
      "weighted avg       1.00      0.99      0.99    209715\n",
      "\n",
      "\n",
      "Confusion matrix: \n",
      "[[206627   2860]\n",
      " [    14    214]]\n",
      "\n"
     ]
    }
   ],
   "source": [
    "evaluate_model(ytest, ypred, ypred_proba)"
   ]
  },
  {
   "cell_type": "code",
   "execution_count": null,
   "id": "eec1584a",
   "metadata": {},
   "outputs": [
    {
     "name": "stdout",
     "output_type": "stream",
     "text": [
      "Fitting 3 folds for each of 24 candidates, totalling 72 fits\n"
     ]
    }
   ],
   "source": [
    "CV.fit(xtrain, ytrain)\n",
    "print(CV.best_params_)\n",
    "print(CV.best_score_)\n"
   ]
  },
  {
   "cell_type": "code",
   "execution_count": null,
   "id": "c8b82eec",
   "metadata": {},
   "outputs": [],
   "source": [
    "\n",
    "with open('../models/RandomForest_optimizado.pickle', 'wb') as f:\n",
    "    pickle.dump(CV, f)\n"
   ]
  },
  {
   "cell_type": "code",
   "execution_count": null,
   "id": "c9320c1e",
   "metadata": {},
   "outputs": [],
   "source": [
    "with open('../models/RandomForest_optimizado.pickle', 'rb') as f:\n",
    "    CV = pickle.load(f)"
   ]
  },
  {
   "cell_type": "code",
   "execution_count": null,
   "id": "76b5c6a1",
   "metadata": {},
   "outputs": [],
   "source": [
    "print(CV.best_params_)\n",
    "print(CV.best_score_)\n",
    "ypred = CV.predict(xtest)\n",
    "ypred_proba = CV.predict_proba(xtest)"
   ]
  },
  {
   "cell_type": "code",
   "execution_count": null,
   "id": "55284e3f",
   "metadata": {},
   "outputs": [],
   "source": [
    "evaluate_model(ytest, ypred, ypred_proba)"
   ]
  },
  {
   "cell_type": "code",
   "execution_count": null,
   "id": "90ccac8e",
   "metadata": {},
   "outputs": [],
   "source": [
    "# keep probabilities for the positive outcome only\n",
    "yhat = ypred_proba[:, 1]\n",
    "# calculate roc curves\n",
    "fpr, tpr, thresholds = roc_curve(ytest, yhat)\n",
    "\n",
    "gmeans = np.sqrt(tpr * (1-fpr))\n",
    "# locate the index of the largest g-mean\n",
    "ix = np.argmax(gmeans)\n",
    "print('Best Threshold=%f, G-Mean=%.3f' % (thresholds[ix], gmeans[ix]))\n",
    "\n",
    "ypred_new_threshold = (ypred_proba[:,1]>thresholds[ix]).astype(int)\n",
    "evaluate_model(ytest,ypred_new_threshold,ypred_proba)\n"
   ]
  },
  {
   "cell_type": "code",
   "execution_count": null,
   "id": "3d7c2467",
   "metadata": {},
   "outputs": [],
   "source": []
  }
 ],
 "metadata": {
  "kernelspec": {
   "display_name": "practicas0",
   "language": "python",
   "name": "practicas0"
  },
  "language_info": {
   "codemirror_mode": {
    "name": "ipython",
    "version": 3
   },
   "file_extension": ".py",
   "mimetype": "text/x-python",
   "name": "python",
   "nbconvert_exporter": "python",
   "pygments_lexer": "ipython3",
   "version": "3.9.13"
  }
 },
 "nbformat": 4,
 "nbformat_minor": 5
}
